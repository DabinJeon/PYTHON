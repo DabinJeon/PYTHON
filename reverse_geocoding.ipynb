{
 "cells": [
  {
   "cell_type": "code",
   "execution_count": 1,
   "metadata": {},
   "outputs": [],
   "source": [
    "import json\n",
    "import sys\n",
    "import pandas as pd\n",
    "import requests\n",
    "from datetime import *"
   ]
  },
  {
   "cell_type": "code",
   "execution_count": 54,
   "metadata": {},
   "outputs": [],
   "source": [
    "accident_data='accident.csv'\n",
    "# location_data='location.csv'\n",
    "APP_KEY='a26abb0d6f6fc73d9533ed938fb1151f'\n",
    "URL='https://dapi.kakao.com/v2/local/geo/coord2regioncode.json'"
   ]
  },
  {
   "cell_type": "code",
   "execution_count": null,
   "metadata": {},
   "outputs": [],
   "source": [
    "# json 데이터 요청 (좌표->행정구역정보로 변환)"
   ]
  },
  {
   "cell_type": "code",
   "execution_count": 52,
   "metadata": {},
   "outputs": [],
   "source": [
    "def json_request(url='', encoding='utf-8', success=None, error=lambda e: print('%s : %s' % (e, datetime.now()), file=sys.stderr)):\n",
    "    headers = {'Authorization': 'KakaoAK {}'.format(APP_KEY)}\n",
    "    resp = requests.get(url, headers=headers)\n",
    "    print('%s : success for request [%s]' % (datetime.now(), url))\n",
    "\n",
    "    return resp.text"
   ]
  },
  {
   "cell_type": "code",
   "execution_count": null,
   "metadata": {},
   "outputs": [],
   "source": [
    "# json 데이터를 파싱해서 행정동 주소 반환"
   ]
  },
  {
   "cell_type": "code",
   "execution_count": 26,
   "metadata": {},
   "outputs": [],
   "source": [
    "def reverse_geocode(longitude, latitude):\n",
    "    # 파라미터 최적화하여 url 생성\n",
    "    url = '%s?x=%s&y=%s' %(URL, longitude, latitude)\n",
    "\n",
    "    # json request\n",
    "    try:\n",
    "        json_req = json_request(url=url)\n",
    "        json_data = json.loads(json_req)\n",
    "        json_doc = json_data.get('documents')[1]\n",
    "        print(json_doc)\n",
    "        json_name = json_doc.get('region_3depth_name')\n",
    "        print(json_name)\n",
    "        print(\"===================================================\")\n",
    "    except:\n",
    "        json_name = 'NaN'\n",
    "\n",
    "    return json_name"
   ]
  },
  {
   "cell_type": "code",
   "execution_count": null,
   "metadata": {},
   "outputs": [],
   "source": [
    "# 교통사고 파일에서 경위도 추출해서 동 주소 반환"
   ]
  },
  {
   "cell_type": "code",
   "execution_count": 34,
   "metadata": {},
   "outputs": [],
   "source": [
    "def get_address(data):\n",
    "    address = []\n",
    "\n",
    "    # 경도, 위도 추출해서 동 주소 반환\n",
    "    for i in range(len(data)):\n",
    "        longitude = data['경도'][i]\n",
    "        latitude = data['위도'][i]\n",
    "#         print(longitude,latitude)\n",
    "        address.append(reverse_geocode(longitude, latitude))\n",
    "\n",
    "    return address  # 전처리 함수에서 주소 리스트 받아서 데이터프레임에 추가"
   ]
  },
  {
   "cell_type": "code",
   "execution_count": null,
   "metadata": {},
   "outputs": [],
   "source": [
    "# 메인 함수 실행"
   ]
  },
  {
   "cell_type": "code",
   "execution_count": 48,
   "metadata": {},
   "outputs": [],
   "source": [
    "data = pd.read_csv(accident_data, encoding='euc-kr')"
   ]
  },
  {
   "cell_type": "code",
   "execution_count": 49,
   "metadata": {},
   "outputs": [
    {
     "name": "stdout",
     "output_type": "stream",
     "text": [
      "2020-11-03 14:27:51.312905 : success for request [https://dapi.kakao.com/v2/local/geo/coord2regioncode.json?x=127.97581799999999&y=37.320015000000005]\n",
      "['NaN']\n",
      "2020-11-03 14:27:51.376073 : success for request [https://dapi.kakao.com/v2/local/geo/coord2regioncode.json?x=127.0391506&y=37.6550528]\n",
      "['NaN', 'NaN']\n",
      "2020-11-03 14:27:51.442249 : success for request [https://dapi.kakao.com/v2/local/geo/coord2regioncode.json?x=127.01301200000002&y=37.652247499999994]\n",
      "['NaN', 'NaN', 'NaN']\n",
      "2020-11-03 14:27:51.502408 : success for request [https://dapi.kakao.com/v2/local/geo/coord2regioncode.json?x=127.0422642&y=37.6641938]\n",
      "['NaN', 'NaN', 'NaN', 'NaN']\n",
      "2020-11-03 14:27:51.566579 : success for request [https://dapi.kakao.com/v2/local/geo/coord2regioncode.json?x=127.0470432&y=37.6679681]\n",
      "['NaN', 'NaN', 'NaN', 'NaN', 'NaN']\n",
      "2020-11-03 14:27:51.628744 : success for request [https://dapi.kakao.com/v2/local/geo/coord2regioncode.json?x=127.02753090000002&y=37.6636561]\n",
      "['NaN', 'NaN', 'NaN', 'NaN', 'NaN', 'NaN']\n",
      "2020-11-03 14:27:51.688905 : success for request [https://dapi.kakao.com/v2/local/geo/coord2regioncode.json?x=127.04567779999999&y=37.685992]\n",
      "['NaN', 'NaN', 'NaN', 'NaN', 'NaN', 'NaN', 'NaN']\n",
      "2020-11-03 14:27:51.749065 : success for request [https://dapi.kakao.com/v2/local/geo/coord2regioncode.json?x=127.0456168&y=37.686424]\n",
      "['NaN', 'NaN', 'NaN', 'NaN', 'NaN', 'NaN', 'NaN', 'NaN']\n",
      "2020-11-03 14:27:51.813235 : success for request [https://dapi.kakao.com/v2/local/geo/coord2regioncode.json?x=127.0470432&y=37.6679681]\n",
      "['NaN', 'NaN', 'NaN', 'NaN', 'NaN', 'NaN', 'NaN', 'NaN', 'NaN']\n",
      "2020-11-03 14:27:51.875400 : success for request [https://dapi.kakao.com/v2/local/geo/coord2regioncode.json?x=127.0453187&y=37.6696968]\n",
      "['NaN', 'NaN', 'NaN', 'NaN', 'NaN', 'NaN', 'NaN', 'NaN', 'NaN', 'NaN']\n",
      "2020-11-03 14:27:51.935567 : success for request [https://dapi.kakao.com/v2/local/geo/coord2regioncode.json?x=127.028228&y=37.656787]\n",
      "['NaN', 'NaN', 'NaN', 'NaN', 'NaN', 'NaN', 'NaN', 'NaN', 'NaN', 'NaN', 'NaN']\n",
      "2020-11-03 14:27:52.006750 : success for request [https://dapi.kakao.com/v2/local/geo/coord2regioncode.json?x=127.04179669999999&y=37.6637981]\n",
      "['NaN', 'NaN', 'NaN', 'NaN', 'NaN', 'NaN', 'NaN', 'NaN', 'NaN', 'NaN', 'NaN', 'NaN']\n",
      "2020-11-03 14:27:52.073929 : success for request [https://dapi.kakao.com/v2/local/geo/coord2regioncode.json?x=127.04538570000001&y=37.6819792]\n",
      "['NaN', 'NaN', 'NaN', 'NaN', 'NaN', 'NaN', 'NaN', 'NaN', 'NaN', 'NaN', 'NaN', 'NaN', 'NaN']\n",
      "2020-11-03 14:27:52.138100 : success for request [https://dapi.kakao.com/v2/local/geo/coord2regioncode.json?x=127.03644399999999&y=37.6464818]\n",
      "['NaN', 'NaN', 'NaN', 'NaN', 'NaN', 'NaN', 'NaN', 'NaN', 'NaN', 'NaN', 'NaN', 'NaN', 'NaN', 'NaN']\n",
      "2020-11-03 14:27:52.202270 : success for request [https://dapi.kakao.com/v2/local/geo/coord2regioncode.json?x=127.03502069999999&y=37.6778304]\n",
      "['NaN', 'NaN', 'NaN', 'NaN', 'NaN', 'NaN', 'NaN', 'NaN', 'NaN', 'NaN', 'NaN', 'NaN', 'NaN', 'NaN', 'NaN']\n",
      "2020-11-03 14:27:52.263433 : success for request [https://dapi.kakao.com/v2/local/geo/coord2regioncode.json?x=127.02736509999998&y=37.662896999999994]\n",
      "['NaN', 'NaN', 'NaN', 'NaN', 'NaN', 'NaN', 'NaN', 'NaN', 'NaN', 'NaN', 'NaN', 'NaN', 'NaN', 'NaN', 'NaN', 'NaN']\n",
      "2020-11-03 14:27:52.336627 : success for request [https://dapi.kakao.com/v2/local/geo/coord2regioncode.json?x=127.03995959999999&y=37.651810299999994]\n",
      "['NaN', 'NaN', 'NaN', 'NaN', 'NaN', 'NaN', 'NaN', 'NaN', 'NaN', 'NaN', 'NaN', 'NaN', 'NaN', 'NaN', 'NaN', 'NaN', 'NaN']\n",
      "2020-11-03 14:27:52.405813 : success for request [https://dapi.kakao.com/v2/local/geo/coord2regioncode.json?x=127.0451019&y=37.6543199]\n",
      "['NaN', 'NaN', 'NaN', 'NaN', 'NaN', 'NaN', 'NaN', 'NaN', 'NaN', 'NaN', 'NaN', 'NaN', 'NaN', 'NaN', 'NaN', 'NaN', 'NaN', 'NaN']\n",
      "2020-11-03 14:27:52.468979 : success for request [https://dapi.kakao.com/v2/local/geo/coord2regioncode.json?x=127.0371335&y=37.6519675]\n",
      "['NaN', 'NaN', 'NaN', 'NaN', 'NaN', 'NaN', 'NaN', 'NaN', 'NaN', 'NaN', 'NaN', 'NaN', 'NaN', 'NaN', 'NaN', 'NaN', 'NaN', 'NaN', 'NaN']\n",
      "2020-11-03 14:27:52.529148 : success for request [https://dapi.kakao.com/v2/local/geo/coord2regioncode.json?x=127.03942409999999&y=37.636991200000004]\n",
      "['NaN', 'NaN', 'NaN', 'NaN', 'NaN', 'NaN', 'NaN', 'NaN', 'NaN', 'NaN', 'NaN', 'NaN', 'NaN', 'NaN', 'NaN', 'NaN', 'NaN', 'NaN', 'NaN', 'NaN']\n",
      "2020-11-03 14:27:52.601331 : success for request [https://dapi.kakao.com/v2/local/geo/coord2regioncode.json?x=127.03905559999998&y=37.654773600000006]\n",
      "['NaN', 'NaN', 'NaN', 'NaN', 'NaN', 'NaN', 'NaN', 'NaN', 'NaN', 'NaN', 'NaN', 'NaN', 'NaN', 'NaN', 'NaN', 'NaN', 'NaN', 'NaN', 'NaN', 'NaN', 'NaN']\n",
      "2020-11-03 14:27:52.668512 : success for request [https://dapi.kakao.com/v2/local/geo/coord2regioncode.json?x=127.0273354&y=37.6613533]\n",
      "['NaN', 'NaN', 'NaN', 'NaN', 'NaN', 'NaN', 'NaN', 'NaN', 'NaN', 'NaN', 'NaN', 'NaN', 'NaN', 'NaN', 'NaN', 'NaN', 'NaN', 'NaN', 'NaN', 'NaN', 'NaN', 'NaN']\n",
      "2020-11-03 14:27:52.729672 : success for request [https://dapi.kakao.com/v2/local/geo/coord2regioncode.json?x=127.0470453&y=37.6679862]\n",
      "['NaN', 'NaN', 'NaN', 'NaN', 'NaN', 'NaN', 'NaN', 'NaN', 'NaN', 'NaN', 'NaN', 'NaN', 'NaN', 'NaN', 'NaN', 'NaN', 'NaN', 'NaN', 'NaN', 'NaN', 'NaN', 'NaN', 'NaN']\n",
      "2020-11-03 14:27:52.793842 : success for request [https://dapi.kakao.com/v2/local/geo/coord2regioncode.json?x=127.04359939999999&y=37.66481829999999]\n",
      "['NaN', 'NaN', 'NaN', 'NaN', 'NaN', 'NaN', 'NaN', 'NaN', 'NaN', 'NaN', 'NaN', 'NaN', 'NaN', 'NaN', 'NaN', 'NaN', 'NaN', 'NaN', 'NaN', 'NaN', 'NaN', 'NaN', 'NaN', 'NaN']\n",
      "2020-11-03 14:27:52.852999 : success for request [https://dapi.kakao.com/v2/local/geo/coord2regioncode.json?x=127.0411307&y=37.6630592]\n",
      "['NaN', 'NaN', 'NaN', 'NaN', 'NaN', 'NaN', 'NaN', 'NaN', 'NaN', 'NaN', 'NaN', 'NaN', 'NaN', 'NaN', 'NaN', 'NaN', 'NaN', 'NaN', 'NaN', 'NaN', 'NaN', 'NaN', 'NaN', 'NaN', 'NaN']\n",
      "2020-11-03 14:27:52.921181 : success for request [https://dapi.kakao.com/v2/local/geo/coord2regioncode.json?x=127.03906370000001&y=37.656962299999996]\n",
      "['NaN', 'NaN', 'NaN', 'NaN', 'NaN', 'NaN', 'NaN', 'NaN', 'NaN', 'NaN', 'NaN', 'NaN', 'NaN', 'NaN', 'NaN', 'NaN', 'NaN', 'NaN', 'NaN', 'NaN', 'NaN', 'NaN', 'NaN', 'NaN', 'NaN', 'NaN']\n",
      "2020-11-03 14:27:52.983346 : success for request [https://dapi.kakao.com/v2/local/geo/coord2regioncode.json?x=127.0506689&y=37.683751799999996]\n",
      "['NaN', 'NaN', 'NaN', 'NaN', 'NaN', 'NaN', 'NaN', 'NaN', 'NaN', 'NaN', 'NaN', 'NaN', 'NaN', 'NaN', 'NaN', 'NaN', 'NaN', 'NaN', 'NaN', 'NaN', 'NaN', 'NaN', 'NaN', 'NaN', 'NaN', 'NaN', 'NaN']\n",
      "2020-11-03 14:27:53.043506 : success for request [https://dapi.kakao.com/v2/local/geo/coord2regioncode.json?x=127.0466887&y=37.6710567]\n",
      "['NaN', 'NaN', 'NaN', 'NaN', 'NaN', 'NaN', 'NaN', 'NaN', 'NaN', 'NaN', 'NaN', 'NaN', 'NaN', 'NaN', 'NaN', 'NaN', 'NaN', 'NaN', 'NaN', 'NaN', 'NaN', 'NaN', 'NaN', 'NaN', 'NaN', 'NaN', 'NaN', 'NaN']\n",
      "2020-11-03 14:27:53.102663 : success for request [https://dapi.kakao.com/v2/local/geo/coord2regioncode.json?x=127.0457096&y=37.6857265]\n",
      "['NaN', 'NaN', 'NaN', 'NaN', 'NaN', 'NaN', 'NaN', 'NaN', 'NaN', 'NaN', 'NaN', 'NaN', 'NaN', 'NaN', 'NaN', 'NaN', 'NaN', 'NaN', 'NaN', 'NaN', 'NaN', 'NaN', 'NaN', 'NaN', 'NaN', 'NaN', 'NaN', 'NaN', 'NaN']\n",
      "2020-11-03 14:27:53.164829 : success for request [https://dapi.kakao.com/v2/local/geo/coord2regioncode.json?x=127.04505470000001&y=37.6518111]\n",
      "['NaN', 'NaN', 'NaN', 'NaN', 'NaN', 'NaN', 'NaN', 'NaN', 'NaN', 'NaN', 'NaN', 'NaN', 'NaN', 'NaN', 'NaN', 'NaN', 'NaN', 'NaN', 'NaN', 'NaN', 'NaN', 'NaN', 'NaN', 'NaN', 'NaN', 'NaN', 'NaN', 'NaN', 'NaN', 'NaN']\n",
      "2020-11-03 14:27:53.232007 : success for request [https://dapi.kakao.com/v2/local/geo/coord2regioncode.json?x=127.02125520000001&y=37.6530325]\n",
      "['NaN', 'NaN', 'NaN', 'NaN', 'NaN', 'NaN', 'NaN', 'NaN', 'NaN', 'NaN', 'NaN', 'NaN', 'NaN', 'NaN', 'NaN', 'NaN', 'NaN', 'NaN', 'NaN', 'NaN', 'NaN', 'NaN', 'NaN', 'NaN', 'NaN', 'NaN', 'NaN', 'NaN', 'NaN', 'NaN', 'NaN']\n",
      "2020-11-03 14:27:53.304200 : success for request [https://dapi.kakao.com/v2/local/geo/coord2regioncode.json?x=127.0447078&y=37.6658832]\n",
      "['NaN', 'NaN', 'NaN', 'NaN', 'NaN', 'NaN', 'NaN', 'NaN', 'NaN', 'NaN', 'NaN', 'NaN', 'NaN', 'NaN', 'NaN', 'NaN', 'NaN', 'NaN', 'NaN', 'NaN', 'NaN', 'NaN', 'NaN', 'NaN', 'NaN', 'NaN', 'NaN', 'NaN', 'NaN', 'NaN', 'NaN', 'NaN']\n",
      "2020-11-03 14:27:53.375389 : success for request [https://dapi.kakao.com/v2/local/geo/coord2regioncode.json?x=127.04092320000001&y=37.6411202]\n",
      "['NaN', 'NaN', 'NaN', 'NaN', 'NaN', 'NaN', 'NaN', 'NaN', 'NaN', 'NaN', 'NaN', 'NaN', 'NaN', 'NaN', 'NaN', 'NaN', 'NaN', 'NaN', 'NaN', 'NaN', 'NaN', 'NaN', 'NaN', 'NaN', 'NaN', 'NaN', 'NaN', 'NaN', 'NaN', 'NaN', 'NaN', 'NaN', 'NaN']\n"
     ]
    },
    {
     "name": "stdout",
     "output_type": "stream",
     "text": [
      "2020-11-03 14:27:53.435549 : success for request [https://dapi.kakao.com/v2/local/geo/coord2regioncode.json?x=127.04243829999999&y=37.6877831]\n",
      "['NaN', 'NaN', 'NaN', 'NaN', 'NaN', 'NaN', 'NaN', 'NaN', 'NaN', 'NaN', 'NaN', 'NaN', 'NaN', 'NaN', 'NaN', 'NaN', 'NaN', 'NaN', 'NaN', 'NaN', 'NaN', 'NaN', 'NaN', 'NaN', 'NaN', 'NaN', 'NaN', 'NaN', 'NaN', 'NaN', 'NaN', 'NaN', 'NaN', 'NaN']\n",
      "2020-11-03 14:27:53.502727 : success for request [https://dapi.kakao.com/v2/local/geo/coord2regioncode.json?x=127.0342314&y=37.6499426]\n",
      "['NaN', 'NaN', 'NaN', 'NaN', 'NaN', 'NaN', 'NaN', 'NaN', 'NaN', 'NaN', 'NaN', 'NaN', 'NaN', 'NaN', 'NaN', 'NaN', 'NaN', 'NaN', 'NaN', 'NaN', 'NaN', 'NaN', 'NaN', 'NaN', 'NaN', 'NaN', 'NaN', 'NaN', 'NaN', 'NaN', 'NaN', 'NaN', 'NaN', 'NaN', 'NaN']\n",
      "2020-11-03 14:27:53.562888 : success for request [https://dapi.kakao.com/v2/local/geo/coord2regioncode.json?x=127.0498842&y=37.653448499999996]\n",
      "['NaN', 'NaN', 'NaN', 'NaN', 'NaN', 'NaN', 'NaN', 'NaN', 'NaN', 'NaN', 'NaN', 'NaN', 'NaN', 'NaN', 'NaN', 'NaN', 'NaN', 'NaN', 'NaN', 'NaN', 'NaN', 'NaN', 'NaN', 'NaN', 'NaN', 'NaN', 'NaN', 'NaN', 'NaN', 'NaN', 'NaN', 'NaN', 'NaN', 'NaN', 'NaN', 'NaN']\n",
      "2020-11-03 14:27:53.632071 : success for request [https://dapi.kakao.com/v2/local/geo/coord2regioncode.json?x=127.0508119&y=37.6530405]\n",
      "['NaN', 'NaN', 'NaN', 'NaN', 'NaN', 'NaN', 'NaN', 'NaN', 'NaN', 'NaN', 'NaN', 'NaN', 'NaN', 'NaN', 'NaN', 'NaN', 'NaN', 'NaN', 'NaN', 'NaN', 'NaN', 'NaN', 'NaN', 'NaN', 'NaN', 'NaN', 'NaN', 'NaN', 'NaN', 'NaN', 'NaN', 'NaN', 'NaN', 'NaN', 'NaN', 'NaN', 'NaN']\n",
      "2020-11-03 14:27:53.697247 : success for request [https://dapi.kakao.com/v2/local/geo/coord2regioncode.json?x=127.03747849999999&y=37.6527217]\n",
      "['NaN', 'NaN', 'NaN', 'NaN', 'NaN', 'NaN', 'NaN', 'NaN', 'NaN', 'NaN', 'NaN', 'NaN', 'NaN', 'NaN', 'NaN', 'NaN', 'NaN', 'NaN', 'NaN', 'NaN', 'NaN', 'NaN', 'NaN', 'NaN', 'NaN', 'NaN', 'NaN', 'NaN', 'NaN', 'NaN', 'NaN', 'NaN', 'NaN', 'NaN', 'NaN', 'NaN', 'NaN', 'NaN']\n",
      "2020-11-03 14:27:53.758407 : success for request [https://dapi.kakao.com/v2/local/geo/coord2regioncode.json?x=127.0447838&y=37.651458399999996]\n",
      "['NaN', 'NaN', 'NaN', 'NaN', 'NaN', 'NaN', 'NaN', 'NaN', 'NaN', 'NaN', 'NaN', 'NaN', 'NaN', 'NaN', 'NaN', 'NaN', 'NaN', 'NaN', 'NaN', 'NaN', 'NaN', 'NaN', 'NaN', 'NaN', 'NaN', 'NaN', 'NaN', 'NaN', 'NaN', 'NaN', 'NaN', 'NaN', 'NaN', 'NaN', 'NaN', 'NaN', 'NaN', 'NaN', 'NaN']\n",
      "2020-11-03 14:27:53.821575 : success for request [https://dapi.kakao.com/v2/local/geo/coord2regioncode.json?x=127.04479450000001&y=37.6539895]\n",
      "['NaN', 'NaN', 'NaN', 'NaN', 'NaN', 'NaN', 'NaN', 'NaN', 'NaN', 'NaN', 'NaN', 'NaN', 'NaN', 'NaN', 'NaN', 'NaN', 'NaN', 'NaN', 'NaN', 'NaN', 'NaN', 'NaN', 'NaN', 'NaN', 'NaN', 'NaN', 'NaN', 'NaN', 'NaN', 'NaN', 'NaN', 'NaN', 'NaN', 'NaN', 'NaN', 'NaN', 'NaN', 'NaN', 'NaN', 'NaN']\n",
      "2020-11-03 14:27:53.884742 : success for request [https://dapi.kakao.com/v2/local/geo/coord2regioncode.json?x=127.03982020000001&y=37.6408085]\n",
      "['NaN', 'NaN', 'NaN', 'NaN', 'NaN', 'NaN', 'NaN', 'NaN', 'NaN', 'NaN', 'NaN', 'NaN', 'NaN', 'NaN', 'NaN', 'NaN', 'NaN', 'NaN', 'NaN', 'NaN', 'NaN', 'NaN', 'NaN', 'NaN', 'NaN', 'NaN', 'NaN', 'NaN', 'NaN', 'NaN', 'NaN', 'NaN', 'NaN', 'NaN', 'NaN', 'NaN', 'NaN', 'NaN', 'NaN', 'NaN', 'NaN']\n",
      "2020-11-03 14:27:53.952924 : success for request [https://dapi.kakao.com/v2/local/geo/coord2regioncode.json?x=127.0459284&y=37.6690836]\n",
      "['NaN', 'NaN', 'NaN', 'NaN', 'NaN', 'NaN', 'NaN', 'NaN', 'NaN', 'NaN', 'NaN', 'NaN', 'NaN', 'NaN', 'NaN', 'NaN', 'NaN', 'NaN', 'NaN', 'NaN', 'NaN', 'NaN', 'NaN', 'NaN', 'NaN', 'NaN', 'NaN', 'NaN', 'NaN', 'NaN', 'NaN', 'NaN', 'NaN', 'NaN', 'NaN', 'NaN', 'NaN', 'NaN', 'NaN', 'NaN', 'NaN', 'NaN']\n",
      "2020-11-03 14:27:54.014087 : success for request [https://dapi.kakao.com/v2/local/geo/coord2regioncode.json?x=127.0129874&y=37.6517093]\n",
      "['NaN', 'NaN', 'NaN', 'NaN', 'NaN', 'NaN', 'NaN', 'NaN', 'NaN', 'NaN', 'NaN', 'NaN', 'NaN', 'NaN', 'NaN', 'NaN', 'NaN', 'NaN', 'NaN', 'NaN', 'NaN', 'NaN', 'NaN', 'NaN', 'NaN', 'NaN', 'NaN', 'NaN', 'NaN', 'NaN', 'NaN', 'NaN', 'NaN', 'NaN', 'NaN', 'NaN', 'NaN', 'NaN', 'NaN', 'NaN', 'NaN', 'NaN', 'NaN']\n",
      "2020-11-03 14:27:54.084273 : success for request [https://dapi.kakao.com/v2/local/geo/coord2regioncode.json?x=127.0468148&y=37.6694395]\n",
      "['NaN', 'NaN', 'NaN', 'NaN', 'NaN', 'NaN', 'NaN', 'NaN', 'NaN', 'NaN', 'NaN', 'NaN', 'NaN', 'NaN', 'NaN', 'NaN', 'NaN', 'NaN', 'NaN', 'NaN', 'NaN', 'NaN', 'NaN', 'NaN', 'NaN', 'NaN', 'NaN', 'NaN', 'NaN', 'NaN', 'NaN', 'NaN', 'NaN', 'NaN', 'NaN', 'NaN', 'NaN', 'NaN', 'NaN', 'NaN', 'NaN', 'NaN', 'NaN', 'NaN']\n"
     ]
    }
   ],
   "source": [
    "address = get_address(data)"
   ]
  },
  {
   "cell_type": "code",
   "execution_count": 37,
   "metadata": {},
   "outputs": [],
   "source": [
    "data = pd.read_csv(accident_data, encoding='euc-kr')"
   ]
  },
  {
   "cell_type": "code",
   "execution_count": 38,
   "metadata": {},
   "outputs": [],
   "source": [
    "for i in range(len(data)):\n",
    "        longitude = data['경도'][i]\n",
    "        latitude = data['위도'][i]"
   ]
  },
  {
   "cell_type": "code",
   "execution_count": 50,
   "metadata": {},
   "outputs": [],
   "source": [
    "url = '%s?x=%s&y=%s' %(URL, longitude, latitude)"
   ]
  },
  {
   "cell_type": "code",
   "execution_count": 53,
   "metadata": {},
   "outputs": [
    {
     "name": "stdout",
     "output_type": "stream",
     "text": [
      "2020-11-03 14:29:00.191634 : success for request [https://dapi.kakao.com/v2/local/geo/coord2regioncode.json?x=127.0468148&y=37.6694395]\n",
      "{'errorType': 'AccessDeniedError', 'message': 'KA Header is required but neither os nor origin field is given'}\n"
     ]
    }
   ],
   "source": [
    "json_req = json_request(url=url)\n",
    "json_data = json.loads(json_req)\n",
    "print(json_data)"
   ]
  },
  {
   "cell_type": "code",
   "execution_count": 46,
   "metadata": {},
   "outputs": [
    {
     "name": "stdout",
     "output_type": "stream",
     "text": [
      "None\n"
     ]
    }
   ],
   "source": [
    "print(json_data.get('document'))"
   ]
  },
  {
   "cell_type": "code",
   "execution_count": null,
   "metadata": {},
   "outputs": [],
   "source": []
  },
  {
   "cell_type": "code",
   "execution_count": 55,
   "metadata": {},
   "outputs": [],
   "source": [
    "dataset=pd.concat([data,address],axis=1)"
   ]
  },
  {
   "cell_type": "code",
   "execution_count": 57,
   "metadata": {},
   "outputs": [],
   "source": [
    "dataset.head(2)"
   ]
  },
  {
   "cell_type": "code",
   "execution_count": null,
   "metadata": {},
   "outputs": [],
   "source": [
    "def main():\n",
    "    # 파일 읽기\n",
    "    data = pd.read_csv(accident_data, encoding='euc-kr')\n",
    "#     location = pd.read_csv(location_data, encoding='euc-kr')\n",
    "\n",
    "    address = get_address(data)\n",
    "#     data = preprocess(data, address, location)  # 전처리 함수(생략했음)\n",
    "\n",
    "#     data.to_csv('%s_final.csv' % (accident_data[:-4]), sep=',', encoding='euc-kr')\n",
    "\n",
    "if __name__ == '__main__':\n",
    "    main()"
   ]
  },
  {
   "cell_type": "code",
   "execution_count": null,
   "metadata": {},
   "outputs": [],
   "source": []
  },
  {
   "cell_type": "code",
   "execution_count": null,
   "metadata": {},
   "outputs": [],
   "source": []
  },
  {
   "cell_type": "code",
   "execution_count": null,
   "metadata": {},
   "outputs": [],
   "source": []
  },
  {
   "cell_type": "code",
   "execution_count": null,
   "metadata": {},
   "outputs": [],
   "source": []
  }
 ],
 "metadata": {
  "kernelspec": {
   "display_name": "Python 3",
   "language": "python",
   "name": "python3"
  },
  "language_info": {
   "codemirror_mode": {
    "name": "ipython",
    "version": 3
   },
   "file_extension": ".py",
   "mimetype": "text/x-python",
   "name": "python",
   "nbconvert_exporter": "python",
   "pygments_lexer": "ipython3",
   "version": "3.8.3"
  }
 },
 "nbformat": 4,
 "nbformat_minor": 4
}
