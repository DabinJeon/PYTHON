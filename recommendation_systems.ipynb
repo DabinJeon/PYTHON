{
 "cells": [
  {
   "cell_type": "code",
   "execution_count": 11,
   "metadata": {},
   "outputs": [],
   "source": [
    "critics={\n",
    "    'BTS':{'생일':5, '바울':4, '할로윈':1.5},\n",
    "    '손흥민':{'바울':5, '할로윈':2},\n",
    "    '조용필':{'생일':2.5, '바울':2, '할로윈':1},\n",
    "    '나훈아':{'생일':3.5, '바울':4, '할로윈':5}\n",
    "}"
   ]
  },
  {
   "cell_type": "code",
   "execution_count": 12,
   "metadata": {},
   "outputs": [
    {
     "data": {
      "text/plain": [
       "1.5"
      ]
     },
     "execution_count": 12,
     "metadata": {},
     "output_type": "execute_result"
    }
   ],
   "source": [
    "critics['BTS']\n",
    "critics.get(\"BTS\").get(\"할로윈\")"
   ]
  },
  {
   "cell_type": "code",
   "execution_count": 13,
   "metadata": {},
   "outputs": [
    {
     "data": {
      "text/plain": [
       "3.1622776601683795"
      ]
     },
     "execution_count": 13,
     "metadata": {},
     "output_type": "execute_result"
    }
   ],
   "source": [
    "from math import sqrt\n",
    "sqrt(pow(3,2)+pow(1,2))"
   ]
  },
  {
   "cell_type": "code",
   "execution_count": 14,
   "metadata": {},
   "outputs": [],
   "source": [
    "def sim(i,j):\n",
    "    return sqrt(pow(i,2)+pow(j,2))"
   ]
  },
  {
   "cell_type": "code",
   "execution_count": 15,
   "metadata": {},
   "outputs": [],
   "source": [
    "var1=critics['BTS'][\"바울\"]-critics['손흥민'][\"바울\"]\n",
    "var2=critics['BTS'][\"할로윈\"]-critics['손흥민'][\"할로윈\"]"
   ]
  },
  {
   "cell_type": "code",
   "execution_count": 16,
   "metadata": {},
   "outputs": [
    {
     "data": {
      "text/plain": [
       "1.118033988749895"
      ]
     },
     "execution_count": 16,
     "metadata": {},
     "output_type": "execute_result"
    }
   ],
   "source": [
    "sim(var1,var2)"
   ]
  },
  {
   "cell_type": "code",
   "execution_count": 17,
   "metadata": {},
   "outputs": [
    {
     "name": "stdout",
     "output_type": "stream",
     "text": [
      "BTS 손흥민과의 유사도 :  0.8944271909999159\n",
      "조용필 손흥민과의 유사도 :  0.31622776601683794\n",
      "나훈아 손흥민과의 유사도 :  0.31622776601683794\n"
     ]
    }
   ],
   "source": [
    "#손흥민과 다른 사람들과의 거리 구하기\n",
    "\n",
    "for i in critics:\n",
    "    if i != '손흥민': #자기 자신은 제외\n",
    "        var1=critics[i][\"바울\"]-critics['손흥민'][\"바울\"]\n",
    "        var2=critics[i][\"할로윈\"]-critics['손흥민'][\"할로윈\"]\n",
    "        print(i,'손흥민과의 유사도 : ', 1/sim(var1,var2))"
   ]
  },
  {
   "cell_type": "code",
   "execution_count": 23,
   "metadata": {},
   "outputs": [],
   "source": [
    "def sim_distance(data, name1, name2):\n",
    "    for i in data[name1]: #영화제목이 i변수에 들어감\n",
    "        for j in data[name2]:\n",
    "            return\n",
    "sim_distance(critics, '나훈아', '조용필')"
   ]
  },
  {
   "cell_type": "code",
   "execution_count": 33,
   "metadata": {},
   "outputs": [
    {
     "data": {
      "text/plain": [
       "0.179128784747792"
      ]
     },
     "execution_count": 33,
     "metadata": {},
     "output_type": "execute_result"
    }
   ],
   "source": [
    "def sim_distance(data, name1, name2):\n",
    "    sum=0\n",
    "    for i in data[name1]: #영화제목이 i변수에 들어감\n",
    "        if i in data[name2]: #같은 영화를 봤다면\n",
    "            sum+=pow(data[name1][i]-data[name2][i],2)\n",
    "    return 1/(1+sqrt(sum))\n",
    "sim_distance(critics, '나훈아', '조용필')"
   ]
  },
  {
   "cell_type": "code",
   "execution_count": 34,
   "metadata": {},
   "outputs": [
    {
     "data": {
      "text/plain": [
       "0.2402530733520421"
      ]
     },
     "execution_count": 34,
     "metadata": {},
     "output_type": "execute_result"
    }
   ],
   "source": [
    "sim_distance(critics, '손흥민', '조용필')"
   ]
  },
  {
   "cell_type": "code",
   "execution_count": 53,
   "metadata": {},
   "outputs": [],
   "source": [
    "import matplotlib\n",
    "\n",
    "from matplotlib import font_manager, rc\n",
    "import platform\n",
    "if platform.system()==\"Windows\":\n",
    "    font_name=font_manager.FontProperties(fname=\"c:/Windows/Fonts/malgun.ttf\").get_name()\n",
    "    rc('font', family=font_name)\n",
    "matplotlib.rcParams['axes.unicode_minus']=False\n"
   ]
  },
  {
   "cell_type": "code",
   "execution_count": 51,
   "metadata": {},
   "outputs": [
    {
     "name": "stdout",
     "output_type": "stream",
     "text": [
      "[(0.4721359549995794, 'BTS'), (0.2402530733520421, '조용필')]\n"
     ]
    }
   ],
   "source": [
    "#딕셔너리 전체에서 가장 유사도가 큰 사람을 검색하는 함수\n",
    "\n",
    "def top_match(data,name,index=3,sf=sim_distance): #index=3 상위 3명을 출력하는 것을 디폴트 값으로 설정\n",
    "    myList=[]\n",
    "    for i in data:\n",
    "        if name != i:\n",
    "            myList.append((sf(data,name,i),i))\n",
    "    myList.sort()     #오름차순\n",
    "    myList.reverse()  #내림차순\n",
    "    return myList[:index]\n",
    "        \n",
    "print(top_match(critics,\"손흥민\",2))\n",
    "        "
   ]
  },
  {
   "cell_type": "code",
   "execution_count": 55,
   "metadata": {},
   "outputs": [],
   "source": [
    "import matplotlib.pyplot as plt\n",
    "\n",
    "\n",
    "def myBar(score,names):\n",
    "    s=range(len(score))\n",
    "    plt.barh(s,score,height=0.5, color='r')\n",
    "    plt.yticks(s, names)\n",
    "    plt.xlabel(\"sim\")\n",
    "    plt.ylabel(\"name\")\n",
    "    plt.show()\n"
   ]
  },
  {
   "cell_type": "code",
   "execution_count": 56,
   "metadata": {},
   "outputs": [
    {
     "data": {
      "image/png": "[encoded data removed]",
      "text/plain": [
       "<Figure size 432x288 with 1 Axes>"
      ]
     },
     "metadata": {},
     "output_type": "display_data"
    }
   ],
   "source": [
    "#함수의 수행결과를 시각화 (x축에는 유사도 y축에는 이름 -수평막대바로 출력)\n",
    "\n",
    "li=top_match(critics,\"손흥민\",3)\n",
    "score=[]\n",
    "names=[]\n",
    "for i in li:\n",
    "    score.append(i[0])\n",
    "    names.append(i[1])\n",
    "    \n",
    "myBar(score,names)"
   ]
  },
  {
   "cell_type": "code",
   "execution_count": 82,
   "metadata": {},
   "outputs": [],
   "source": [
    "critics = {\n",
    "    '조용필': {\n",
    "        '택시운전사': 2.5,\n",
    "        '겨울왕국': 3.5,\n",
    "        '리빙라스베가스': 3.0,\n",
    "        '넘버3': 3.5,\n",
    "        '사랑과전쟁': 2.5,\n",
    "        '세계대전': 3.0,\n",
    "    },\n",
    "    'BTS': {\n",
    "        '택시운전사': 1.0,\n",
    "        '겨울왕국': 4.5,\n",
    "        '리빙라스베가스': 0.5,\n",
    "        '넘버3': 1.5,\n",
    "        '사랑과전쟁': 4.5,\n",
    "        '세계대전': 5.0,\n",
    "    },\n",
    "    '블핑': {\n",
    "        '택시운전사': 3.0,\n",
    "        '겨울왕국': 3.5,\n",
    "        '리빙라스베가스': 1.5,\n",
    "        '넘버3': 5.0,\n",
    "        '세계대전': 3.0,\n",
    "        '인어공주': 3.5,\n",
    "    },\n",
    "    '싸이': {\n",
    "        '택시운전사': 2.5,\n",
    "        '겨울왕국': 3.0,\n",
    "        '넘버3': 3.5,\n",
    "        '세계대전': 4.0,\n",
    "    },\n",
    "    '장범준': {\n",
    "        '겨울왕국': 3.5,\n",
    "        '리빙라스베가스': 3.0,\n",
    "        '세계대전': 4.5,\n",
    "        '넘버3': 4.0,\n",
    "        '사랑과전쟁': 2.5,\n",
    "    },\n",
    "    '있지': {\n",
    "        '택시운전사': 3.0,\n",
    "        '겨울왕국': 4.0,\n",
    "        '리빙라스베가스': 2.0,\n",
    "        '넘버3': 3.0,\n",
    "        '세계대전': 3.5,\n",
    "        '사랑과전쟁': 2.0,\n",
    "    },\n",
    "    '백지영': {\n",
    "        '택시운전사': 3.0,\n",
    "        '겨울왕국': 4.0,\n",
    "        '세계대전': 3.0,\n",
    "        '넘버3': 5.0,\n",
    "        '사랑과전쟁': 3.5,\n",
    "    },\n",
    "    '이은미': {\n",
    "        '겨울왕국': 4.5, \n",
    "        '사랑과전쟁': 1.0,\n",
    "        '넘버3': 4.0}\n",
    "}\n"
   ]
  },
  {
   "cell_type": "code",
   "execution_count": 64,
   "metadata": {},
   "outputs": [
    {
     "data": {
      "text/plain": [
       "[0, 6, 0, 5]"
      ]
     },
     "execution_count": 64,
     "metadata": {},
     "output_type": "execute_result"
    },
    {
     "data": {
      "image/png": "[encoded data removed]",
      "text/plain": [
       "<Figure size 1008x576 with 1 Axes>"
      ]
     },
     "metadata": {},
     "output_type": "display_data"
    }
   ],
   "source": [
    "plt.figure(figsize=(14,8))\n",
    "plt.plot([1,2,3],[1,2,3],'g^') #(1,1)(2,2)(3,3)\n",
    "plt.text(1,1, \"홍길동\")\n",
    "plt.text(2,2, \"홍길동\")\n",
    "plt.text(3,3, \"홍길동\")\n",
    "\n",
    "plt.axis([0,6,0,5]) #x축은 0-5까지 \n"
   ]
  },
  {
   "cell_type": "code",
   "execution_count": 85,
   "metadata": {},
   "outputs": [],
   "source": [
    "def top_match(data,name,index=3,sf=sim_person): #index=3 상위 3명을 출력하는 것을 디폴트 값으로 설정\n",
    "    myList=[]\n",
    "    for i in data:\n",
    "        if name != i:\n",
    "            myList.append((sf(data,name,i),i))\n",
    "    myList.sort()     #오름차순\n",
    "    myList.reverse()  #내림차순\n",
    "    return myList[:index]\n",
    "print(top_match(critics,\"손흥민\",2))        "
   ]
  },
  {
   "cell_type": "code",
   "execution_count": 71,
   "metadata": {},
   "outputs": [
    {
     "data": {
      "image/png": "[encoded data removed]",
      "text/plain": [
       "<Figure size 1008x576 with 1 Axes>"
      ]
     },
     "metadata": {},
     "output_type": "display_data"
    }
   ],
   "source": [
    "def drawGrpah(data, name1, name2): #두 사람의 영황 평점 데이터를 시각화 (산점도-스캐터플롯)\n",
    "    plt.figure(figsize=(14,8))\n",
    "    li=[]\n",
    "    li2=[]\n",
    "    for i in critics[name1]:\n",
    "        if i in data[name2]:\n",
    "            li.append(data[name1][i])\n",
    "            li2.append(data[name2][i])\n",
    "            plt.text(data[name1][i],data[name2][i],i)\n",
    "    plt.plot(li,li2,'ro')\n",
    "    plt.xlabel(\"BTS\")\n",
    "    plt.ylabel(\"블핑\")\n",
    "    \n",
    "drawGrpah(critics, \"BTS\", \"블핑\")"
   ]
  },
  {
   "cell_type": "code",
   "execution_count": 83,
   "metadata": {},
   "outputs": [
    {
     "data": {
      "text/plain": [
       "0.19047619047619055"
      ]
     },
     "execution_count": 83,
     "metadata": {},
     "output_type": "execute_result"
    }
   ],
   "source": [
    "def sim_person(data , name1, name2):\n",
    "    sumX=0 #BTS와 블핑이 모두 본 영화 평점들의 합\n",
    "    sumY=0\n",
    "    sumpowX=0\n",
    "    sumpowY=0\n",
    "    sumXY=0\n",
    "    count=0\n",
    "    \n",
    "    for i in data[name1]:\n",
    "        if i in data[name2]:\n",
    "            sumX+=data[name1][i]\n",
    "            sumY+=data[name2][i]\n",
    "            sumpowX+=pow(data[name1][i],2)\n",
    "            sumpowY+=pow(data[name2][i],2)\n",
    "            sumXY+=data[name1][i]*data[name2][i]\n",
    "            count+=1\n",
    "    return  (sumXY-(sumX*sumY)/count) / sqrt((sumpowX-(pow(sumX,2)/count))*(sumpowY-((pow(sumY,2)/count))))\n",
    "    \n",
    "sim_person(critics,\"BTS\",\"블핑\")  "
   ]
  },
  {
   "cell_type": "code",
   "execution_count": 86,
   "metadata": {},
   "outputs": [
    {
     "name": "stdout",
     "output_type": "stream",
     "text": [
      "[(0.5692099788303083, '싸이'), (0.41791069697885247, '있지')]\n"
     ]
    }
   ],
   "source": [
    "def top_match(data,name,index=3,sf=sim_person): #index=3 상위 3명을 출력하는 것을 디폴트 값으로 설정\n",
    "    myList=[]\n",
    "    for i in data:\n",
    "        if name != i:\n",
    "            myList.append((sf(data,name,i),i))\n",
    "    myList.sort()     #오름차순\n",
    "    myList.reverse()  #내림차순\n",
    "    return myList[:index]\n",
    "print(top_match(critics,\"BTS\",2))        "
   ]
  },
  {
   "cell_type": "code",
   "execution_count": null,
   "metadata": {},
   "outputs": [],
   "source": [
    "#예상평점=상관계수*상대방의 영화평점"
   ]
  }
 ],
 "metadata": {
  "kernelspec": {
   "display_name": "Python 3",
   "language": "python",
   "name": "python3"
  },
  "language_info": {
   "codemirror_mode": {
    "name": "ipython",
    "version": 3
   },
   "file_extension": ".py",
   "mimetype": "text/x-python",
   "name": "python",
   "nbconvert_exporter": "python",
   "pygments_lexer": "ipython3",
   "version": "3.6.5"
  }
 },
 "nbformat": 4,
 "nbformat_minor": 2
}
